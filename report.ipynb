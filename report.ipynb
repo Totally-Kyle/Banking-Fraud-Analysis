{
 "cells": [
  {
   "cell_type": "markdown",
   "metadata": {},
   "source": [
    "# What insight did you gain from the EDA?\n",
    "\n",
    "The percentage of Non fraudulent activity to Fraudulent activity in the dataframe was 99.9% to 0.1%\n",
    "\n",
    "Out of the 5 types of transaction types only two of them came up for fraudulent actvity \n",
    "\n",
    "When I look at Old balance and New balance on the graph it shows that some of the fraudulent accounts have a trend of staying at 0, where as the non-fraudulent accounts raise steadily which indicated that the account is being drained of the funds.\n",
    "\n",
    "When looking at the pair plot you can see that fraud is an outlier in most of the graphs. It shows up the most when you plot step and amount which means that there has been consisten fraudulent activities for some time\n",
    "\n",
    "# How did you determine which columns to drop or keep? If your EDA informed this process, explain which insights you used to determine which columns were not needed.\n",
    "\n",
    "The step, nameDest, nameOrig, and isFlaggedFraud columns were removed before making the model\n",
    "\n",
    "The nameDest and nameOrig columns were string values that wouldn't have made the predictions anymore accurate\n",
    "\n",
    "I didn't see any noticible change in fraud when using step. I didn't think it would provide any useful information when trying to make a prediction \n",
    "\n",
    "# Which hyperparameter tuning strategy did you use? Grid-search or random-search? Why?\n",
    "I used Random-search beacuse it was the faster option \n",
    "\n",
    "# What was your final F1 Score?\n",
    "F1_Score: 0.6189"
   ]
  }
 ],
 "metadata": {
  "language_info": {
   "name": "python"
  }
 },
 "nbformat": 4,
 "nbformat_minor": 2
}
